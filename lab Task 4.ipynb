{
 "cells": [
  {
   "cell_type": "code",
   "execution_count": 5,
   "metadata": {},
   "outputs": [
    {
     "name": "stdout",
     "output_type": "stream",
     "text": [
      "Valid card number.\n"
     ]
    }
   ],
   "source": [
    "# TASK  no :1\n",
    "def validate_card_number(card_num):\n",
    "    total = 0\n",
    "    digits = [int(d) for d in str(card_num)][::-1] \n",
    "\n",
    "    for idx, num in enumerate(digits):\n",
    "        if idx % 2 != 0:  \n",
    "            num *= 2\n",
    "            if num > 9: \n",
    "                num -= 9\n",
    "        total += num\n",
    "\n",
    "    return total % 10 == 0\n",
    "\n",
    "\n",
    "card_number =int(input(\"Enter the card number\"))\n",
    "if validate_card_number(card_number):\n",
    "    print(\"Valid card number.\")\n",
    "else:\n",
    "    print(\"Invalid card number.\")\n",
    "\n"
   ]
  },
  {
   "cell_type": "code",
   "execution_count": 6,
   "metadata": {},
   "outputs": [
    {
     "name": "stdout",
     "output_type": "stream",
     "text": [
      "Cleaned text: Hi Guys I m Dua\n"
     ]
    },
    {
     "name": "stderr",
     "output_type": "stream",
     "text": [
      "<>:3: SyntaxWarning: invalid escape sequence '\\,'\n",
      "<>:3: SyntaxWarning: invalid escape sequence '\\,'\n",
      "C:\\Users\\CWW\\AppData\\Local\\Temp\\ipykernel_1516\\1312302807.py:3: SyntaxWarning: invalid escape sequence '\\,'\n",
      "  punctuation_marks = '''!()-[]{};:'\"\\,<>./?@#$%^&*_~'''\n"
     ]
    }
   ],
   "source": [
    "# TASK no : 2\n",
    "def strip_punctuation(text):\n",
    "    punctuation_marks = '''!()-[]{};:'\"\\,<>./?@#$%^&*_~'''\n",
    "    cleaned_text = \"\"\n",
    "\n",
    "    for char in text:\n",
    "        if char not in punctuation_marks:\n",
    "            cleaned_text += char\n",
    "    return cleaned_text\n",
    "\n",
    "# Example Usage\n",
    "user_input = \"Hi Guys! I m Dua\"\n",
    "print(\"Cleaned text:\", strip_punctuation(user_input))\n"
   ]
  },
  {
   "cell_type": "code",
   "execution_count": 7,
   "metadata": {},
   "outputs": [
    {
     "name": "stdout",
     "output_type": "stream",
     "text": [
      "Alphabetically sorted word: aeelmpx\n"
     ]
    }
   ],
   "source": [
    "# TASK  no : 3\n",
    "def alphabetical_sort(word):\n",
    "    word_chars = list(word) \n",
    "    \n",
    "    for i in range(len(word_chars)):\n",
    "        min_index = i\n",
    "        for j in range(i + 1, len(word_chars)):\n",
    "            if word_chars[j] < word_chars[min_index]:\n",
    "                min_index = j\n",
    "        word_chars[i], word_chars[min_index] = word_chars[min_index], word_chars[i]\n",
    "\n",
    "    return ''.join(word_chars)\n",
    "\n",
    "\n",
    "word = \"example\"\n",
    "sorted_word = alphabetical_sort(word)\n",
    "print(f\"Alphabetically sorted word: {sorted_word}\")\n"
   ]
  }
 ],
 "metadata": {
  "kernelspec": {
   "display_name": "Python 3",
   "language": "python",
   "name": "python3"
  },
  "language_info": {
   "codemirror_mode": {
    "name": "ipython",
    "version": 3
   },
   "file_extension": ".py",
   "mimetype": "text/x-python",
   "name": "python",
   "nbconvert_exporter": "python",
   "pygments_lexer": "ipython3",
   "version": "3.12.0"
  }
 },
 "nbformat": 4,
 "nbformat_minor": 2
}
