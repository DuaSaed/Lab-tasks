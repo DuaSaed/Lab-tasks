{
 "cells": [
  {
   "cell_type": "code",
   "execution_count": null,
   "metadata": {},
   "outputs": [],
   "source": [
    "\n",
    "class SmartHeaterAgent:\n",
    "    def __init__(self, target_temp):\n",
    "\n",
    "        self.target_temp = target_temp\n",
    "        self.heater_status = {} \n",
    "\n",
    "    def get_temp(self, room, current_temp):\n",
    "       \n",
    "        return current_temp\n",
    "\n",
    "    def control_heater(self, room, current_temp):\n",
    "       \n",
    "        if room not in self.heater_status:\n",
    "            self.heater_status[room] = \"Off\"\n",
    "\n",
    " \n",
    "        if current_temp < self.target_temp:\n",
    "            if self.heater_status[room] != \"On\":\n",
    "                self.heater_status[room] = \"On\"\n",
    "                return f\"Heater turned ON in {room}\"\n",
    "            else:\n",
    "                return f\"Heater already ON in {room}\"\n",
    "        else:\n",
    "            if self.heater_status[room] != \"Off\":\n",
    "                self.heater_status[room] = \"Off\"\n",
    "                return f\"Heater turned OFF in {room}\"\n",
    "            else:\n",
    "                return f\"Heater already OFF in {room}\"\n",
    "\n",
    "house_rooms = {\n",
    "    \"Living Room\": 19,\n",
    "    \"Bedroom\": 22,\n",
    "    \"Kitchen\": 21,\n",
    "    \"Bathroom\": 24\n",
    "}\n",
    "\n",
    "\n",
    "comfort_temp = 22\n",
    "\n",
    "home_agent = SmartHeaterAgent(comfort_temp)\n",
    "n\n",
    "for room_name, temp in house_rooms.items():\n",
    "    sensed_temp = home_agent.get_temp(room_name, temp)\n",
    "    action = home_agent.control_heater(room_name, sensed_temp)\n",
    "    print(f\"{room_name}: Current temp = {sensed_temp}°C. {action}.\")\n"
   ]
  }
 ],
 "metadata": {
  "kernelspec": {
   "display_name": "Python 3",
   "language": "python",
   "name": "python3"
  },
  "language_info": {
   "codemirror_mode": {
    "name": "ipython",
    "version": 3
   },
   "file_extension": ".py",
   "mimetype": "text/x-python",
   "name": "python",
   "nbconvert_exporter": "python",
   "pygments_lexer": "ipython3",
   "version": "3.12.0"
  }
 },
 "nbformat": 4,
 "nbformat_minor": 2
}
