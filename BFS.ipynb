{
 "cells": [
  {
   "cell_type": "code",
   "execution_count": null,
   "metadata": {},
   "outputs": [],
   "source": [
    "# BFS without queue and node\n",
    "def bfs(graph, current_level):\n",
    "    if not current_level:\n",
    "        return  \n",
    "\n",
    "    \n",
    "    next_level = []\n",
    "    for node in current_level:\n",
    "        print(node, end=' ')\n",
    "\n",
    "      \n",
    "        if node in graph:\n",
    "            next_level.extend(graph[node])\n",
    "\n",
    "   \n",
    "    bfs_recursive(graph, next_level)\n",
    "\n",
    "\n",
    "if __name__ == \"__main__\":\n",
    "   \n",
    "    graph = {\n",
    "        1: [2, 3],\n",
    "        2: [4, 5],\n",
    "        3: [6, 7],\n",
    "        4: [],\n",
    "        5: [],\n",
    "        6: [],\n",
    "        7: []\n",
    "    }\n",
    "\n",
    "   \n",
    "    print(\"BFS Traversal:\")\n",
    "    bfs(graph, [1])  \n"
   ]
  },
  {
   "cell_type": "code",
   "execution_count": null,
   "metadata": {},
   "outputs": [],
   "source": [
    "# BFS with queue and node\n",
    "class Node:\n",
    "    def __init__(self, value):\n",
    "        self.value = value\n",
    "        self.adjacents = [] \n",
    "\n",
    "    def add_edge(self, node):\n",
    "        self.adjacents.append(node)\n",
    "\n",
    "def bfs_with_queue(start_node):\n",
    "   \n",
    "    queue = [start_node]  \n",
    "    visited = set()\n",
    "\n",
    "    while queue:\n",
    "       \n",
    "        current_node = queue.pop(0)\n",
    "\n",
    "        if current_node not in visited:\n",
    "            print(current_node.value, end=' ') \n",
    "            visited.add(current_node) \n",
    "\n",
    "           \n",
    "            for neighbor in current_node.adjacents:\n",
    "                if neighbor not in visited:\n",
    "                    queue.append(neighbor)\n",
    "\n",
    "\n",
    "    bfs_with_queue()\n"
   ]
  }
 ],
 "metadata": {
  "language_info": {
   "name": "python"
  }
 },
 "nbformat": 4,
 "nbformat_minor": 2
}
