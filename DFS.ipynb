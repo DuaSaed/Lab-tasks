{
 "cells": [
  {
   "cell_type": "code",
   "execution_count": null,
   "metadata": {},
   "outputs": [],
   "source": [
    "class Node:\n",
    "    def __init__(self, value):\n",
    "        self.value = value\n",
    "        self.adjacents = []  \n",
    "\n",
    "    def add_edge(self, node):\n",
    "        self.adjacents.append(node)\n",
    "\n",
    "def dfs_with_stack(start_node):\n",
    "    stack = [start_node] \n",
    "    visited = set() \n",
    "\n",
    "    while stack:\n",
    "        current_node = stack.pop()  \n",
    "\n",
    "        if current_node not in visited:\n",
    "            print(current_node.value)  \n",
    "            visited.add(current_node)\n",
    "\n",
    "          \n",
    "            for neighbor in reversed(current_node.adjacents):\n",
    "                if neighbor not in visited:\n",
    "                    stack.append(neighbor)\n",
    "\n",
    "\n",
    "\n",
    "\n",
    "  \n",
    "  \n",
    "   \n",
    "    dfs_with_stack(node1)\n"
   ]
  },
  {
   "cell_type": "code",
   "execution_count": null,
   "metadata": {},
   "outputs": [],
   "source": [
    "# Inorder Traversal (Left, Root, Right):\n",
    "\n",
    "# Visit the left subtree.\n",
    "# Visit the root node.\n",
    "# Visit the right subtree.\n",
    "# For a binary search tree (BST), this traversal method gives nodes in ascending order."
   ]
  },
  {
   "cell_type": "code",
   "execution_count": null,
   "metadata": {},
   "outputs": [],
   "source": [
    "# Preorder Traversal (Root, Left, Right):\n",
    "\n",
    "# Visit the root node.\n",
    "# Visit the left subtree.\n",
    "# Visit the right subtree.\n",
    "# This is useful for creating a copy of the tree."
   ]
  },
  {
   "cell_type": "code",
   "execution_count": null,
   "metadata": {},
   "outputs": [],
   "source": [
    "# Postorder Traversal (Left, Right, Root):\n",
    "\n",
    "# Visit the left subtree.\n",
    "# Visit the right subtree.\n",
    "# Visit the root node.\n",
    "# This is useful for deleting the tree or evaluating postfix expressions."
   ]
  },
  {
   "cell_type": "code",
   "execution_count": null,
   "metadata": {},
   "outputs": [],
   "source": [
    "class TreeNode:\n",
    "    def __init__(self, value):\n",
    "        self.value = value\n",
    "        self.left = None\n",
    "        self.right = None\n",
    "\n",
    "\n",
    "def inorder_traversal(node):\n",
    "    if node is not None:\n",
    "        inorder_traversal(node.left)\n",
    "        print(node.value, end=' ')\n",
    "        inorder_traversal(node.right)\n",
    "\n",
    "\n",
    "def preorder_traversal(node):\n",
    "    if node is not None:\n",
    "        print(node.value, end=' ')\n",
    "        preorder_traversal(node.left)\n",
    "        preorder_traversal(node.right)\n",
    "\n",
    "\n",
    "def postorder_traversal(node):\n",
    "    if node is not None:\n",
    "        postorder_traversal(node.left)\n",
    "        postorder_traversal(node.right)\n",
    "        print(node.value, end=' ')\n",
    "\n",
    "\n"
   ]
  }
 ],
 "metadata": {
  "language_info": {
   "name": "python"
  }
 },
 "nbformat": 4,
 "nbformat_minor": 2
}
