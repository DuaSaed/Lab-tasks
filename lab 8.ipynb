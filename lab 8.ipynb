{
 "cells": [
  {
   "cell_type": "code",
   "execution_count": 1,
   "metadata": {},
   "outputs": [],
   "source": [
    "import math "
   ]
  },
  {
   "cell_type": "code",
   "execution_count": 2,
   "metadata": {},
   "outputs": [
    {
     "name": "stdout",
     "output_type": "stream",
     "text": [
      "Optimal value: 12\n"
     ]
    }
   ],
   "source": [
    "\n",
    "def minimax(curr_depth, index, is_max, scores, target_depth):\n",
    "\n",
    "    if curr_depth == target_depth:\n",
    "        return scores[index]\n",
    "\n",
    "    if is_max:\n",
    "        return max(\n",
    "            minimax(curr_depth + 1, index * 2, False, scores, target_depth),\n",
    "            minimax(curr_depth + 1, index * 2 + 1, False, scores, target_depth)\n",
    "        )\n",
    "    else:\n",
    "        return min(\n",
    "            minimax(curr_depth + 1, index * 2, True, scores, target_depth),\n",
    "            minimax(curr_depth + 1, index * 2 + 1, True, scores, target_depth)\n",
    "        )\n",
    "\n",
    "\n",
    "scores = [3, 5, 2, 9, 12, 5, 23, 23]  \n",
    "tree_depth = math.log(len(scores), 2) \n",
    "\n",
    "print(\"Optimal value:\", minimax(0, 0, True, scores, int(tree_depth)))\n",
    "\n"
   ]
  },
  {
   "cell_type": "code",
   "execution_count": null,
   "metadata": {},
   "outputs": [],
   "source": []
  }
 ],
 "metadata": {
  "kernelspec": {
   "display_name": "Python 3",
   "language": "python",
   "name": "python3"
  },
  "language_info": {
   "codemirror_mode": {
    "name": "ipython",
    "version": 3
   },
   "file_extension": ".py",
   "mimetype": "text/x-python",
   "name": "python",
   "nbconvert_exporter": "python",
   "pygments_lexer": "ipython3",
   "version": "3.12.0"
  }
 },
 "nbformat": 4,
 "nbformat_minor": 2
}
