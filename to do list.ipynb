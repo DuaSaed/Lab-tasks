{
 "cells": [
  {
   "cell_type": "code",
   "execution_count": 1,
   "metadata": {},
   "outputs": [
    {
     "name": "stdout",
     "output_type": "stream",
     "text": [
      "my to-do list\n",
      "1. Add a task\n",
      "2. Delete a task by name\n",
      "3. View all tasks\n",
      "4. Exit\n",
      "['playing']\n",
      "my to-do list\n",
      "1. Add a task\n",
      "2. Delete a task by name\n",
      "3. View all tasks\n",
      "4. Exit\n",
      "['playing', 'gaming']\n",
      "my to-do list\n",
      "1. Add a task\n",
      "2. Delete a task by name\n",
      "3. View all tasks\n",
      "4. Exit\n",
      "My tasks are:['playing', 'gaming']\n",
      "my to-do list\n",
      "1. Add a task\n",
      "2. Delete a task by name\n",
      "3. View all tasks\n",
      "4. Exit\n"
     ]
    }
   ],
   "source": [
    "def main():\n",
    "    tasks = []  \n",
    "    while True:\n",
    "        print(\"my to-do list\")\n",
    "        print(\"1. Add a task\")\n",
    "        print(\"2. Delete a task by name\")\n",
    "        print(\"3. View all tasks\")\n",
    "        print(\"4. Exit\")\n",
    "        choice = input(\"enter your choice: \")\n",
    "        \n",
    "        if choice == \"1\":\n",
    "            tasks.append(input(\"enter the task: \"))\n",
    "            print(tasks)\n",
    "        \n",
    "        elif choice == \"2\":\n",
    "            task_to_delete = input(\"Enter the task to delete: \")\n",
    "            if task_to_delete in tasks:\n",
    "                tasks.remove(task_to_delete)\n",
    "                print(\"Task deleted:\",task_to_delete)\n",
    "            else:\n",
    "                print(\"Task not found.\")\n",
    "        \n",
    "        elif choice == \"3\":\n",
    "            print(f\"My tasks are:{tasks}\")\n",
    "          \n",
    "        \n",
    "        elif choice == \"4\":\n",
    "            break\n",
    "        \n",
    "        else:\n",
    "            print(\"Invalid\")\n",
    "            \n",
    "main()\n"
   ]
  },
  {
   "cell_type": "code",
   "execution_count": null,
   "metadata": {},
   "outputs": [],
   "source": []
  }
 ],
 "metadata": {
  "kernelspec": {
   "display_name": "Python 3",
   "language": "python",
   "name": "python3"
  },
  "language_info": {
   "codemirror_mode": {
    "name": "ipython",
    "version": 3
   },
   "file_extension": ".py",
   "mimetype": "text/x-python",
   "name": "python",
   "nbconvert_exporter": "python",
   "pygments_lexer": "ipython3",
   "version": "3.12.0"
  }
 },
 "nbformat": 4,
 "nbformat_minor": 2
}
